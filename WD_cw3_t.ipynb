{
  "cells": [
    {
      "cell_type": "markdown",
      "metadata": {
        "id": "view-in-github",
        "colab_type": "text"
      },
      "source": [
        "<a href=\"https://colab.research.google.com/github/AndrzejTM/matplotlib_1/blob/master/WD_cw3_t.ipynb\" target=\"_parent\"><img src=\"https://colab.research.google.com/assets/colab-badge.svg\" alt=\"Open In Colab\"/></a>"
      ]
    },
    {
      "cell_type": "markdown",
      "metadata": {
        "id": "XtO6ctdG3n4v"
      },
      "source": [
        "# Wizualizacja danych\n",
        "\n",
        "## Python\n",
        "\n",
        "\n",
        " ***dr Bogna Zacny***   \n",
        " Katedra Inżynierii Wiedzy       \n",
        " Kolegium Informatyki i Komunikacji    \n",
        " Uniwersystet Ekonomiczny w Katowiacach  "
      ]
    },
    {
      "cell_type": "code",
      "execution_count": null,
      "metadata": {
        "id": "l0QC82Fl3n41"
      },
      "outputs": [],
      "source": [
        "import matplotlib.pyplot as plt\n",
        "import pandas as pd\n",
        "import random\n",
        "\n",
        "liczby_X = list(range(10, 100, 20))\n",
        "liczby_Y = [liczba ** 3 for liczba in liczby_X]"
      ]
    },
    {
      "cell_type": "markdown",
      "metadata": {
        "id": "oxubNoIy3n44"
      },
      "source": [
        "## Wizualizacja danych - środowisko graficzne\n",
        "\n",
        "\n",
        "[Elementy obszaru kreślenia](https://matplotlib.org/stable/gallery/showcase/anatomy.html)"
      ]
    },
    {
      "cell_type": "markdown",
      "metadata": {
        "id": "5CTMfQEW3n45"
      },
      "source": [
        "## Wizualizacja danych - środowisko graficzne\n"
      ]
    },
    {
      "cell_type": "code",
      "execution_count": null,
      "metadata": {
        "id": "02Q0IK593n45",
        "scrolled": true
      },
      "outputs": [],
      "source": [
        "plt.figure(figsize=[2, 1], facecolor='y', linewidth=10, edgecolor='r') # - ustawienie obszaru kreślenia\n",
        "\n",
        "plt.plot() # - wyrysowanie wykresu\n",
        "\n",
        "# plt.show() # - wyświetlenie wykresu w środowisku graficznym\n",
        "plt.savefig('wykres.png') # - zapisanie wykresu do pliku (*.png, *.pdf, *.jpg)\n",
        "plt.close() # - zatrzymanie wyświetlenia wykresu w środowisku graficznym"
      ]
    },
    {
      "cell_type": "markdown",
      "metadata": {
        "id": "KL6zXqcK3n45"
      },
      "source": [
        "## matplotlib - kolory\n",
        "\n",
        "\n",
        "[Dostępne nazwy kolorów](https://matplotlib.org/stable/gallery/color/named_colors.html)"
      ]
    },
    {
      "cell_type": "markdown",
      "metadata": {
        "id": "dLWq7XbN3n45"
      },
      "source": [
        "## matplotlib - kolory\n",
        "\n",
        "[Skale kolorów](https://matplotlib.org/3.1.1/gallery/color/colormap_reference.html)"
      ]
    },
    {
      "cell_type": "code",
      "execution_count": null,
      "metadata": {
        "id": "cW-u5XT83n46",
        "scrolled": true
      },
      "outputs": [],
      "source": [
        "m_kor = [[1, 2, 3, 4],\n",
        "         [11, 12, 13, 14]]\n",
        "\n",
        "plt.imshow(m_kor, cmap = 'RdBu') # rozdzielająca\n",
        "plt.colorbar();"
      ]
    },
    {
      "cell_type": "markdown",
      "metadata": {
        "id": "naXs5OXt3n46"
      },
      "source": [
        "## matplotlib - kolory"
      ]
    },
    {
      "cell_type": "code",
      "execution_count": null,
      "metadata": {
        "id": "sE--DjCI3n46",
        "scrolled": true
      },
      "outputs": [],
      "source": [
        "plt.imshow(m_kor, cmap = 'Greens_r') # sekwencyjna\n",
        "plt.colorbar();"
      ]
    },
    {
      "cell_type": "markdown",
      "metadata": {
        "id": "5RvnIipy3n46"
      },
      "source": [
        "## matplotlib - kolory"
      ]
    },
    {
      "cell_type": "code",
      "execution_count": null,
      "metadata": {
        "id": "Jfys7lZR3n46",
        "scrolled": true
      },
      "outputs": [],
      "source": [
        "m_kor = [[1, 2, 3, 4],\n",
        "         [5, 6, 7, 8]]\n",
        "\n",
        "plt.imshow(m_kor, cmap = 'Dark2') # jakościowa\n",
        "plt.colorbar();"
      ]
    },
    {
      "cell_type": "markdown",
      "metadata": {
        "id": "6LOK8D643n47"
      },
      "source": [
        "## matplotlib - wykres\n",
        "\n"
      ]
    },
    {
      "cell_type": "code",
      "execution_count": null,
      "metadata": {
        "id": "txnque_m3n47"
      },
      "outputs": [],
      "source": [
        "plt.axis([1, 100, 10, 20]) # skala osi [xmin, xmax, ymin, ymax]\n",
        "\n",
        "plt.plot(50, 15, 'bo') # estetyki wykresu ([x], y, [fmt])\n",
        "\n",
        "plt.xticks([0, 50, 100]) # skala osi x\n",
        "plt.yticks(range(10,21)) # skala osi y\n",
        "\n",
        "plt.xlabel('\\nOś OX') # tytuł osi x\n",
        "plt.ylabel('Oś OY\\n') # tytuł osi y\n",
        "\n",
        "plt.title('Wykres') # tytuł wykresu\n",
        "\n",
        "plt.legend(title = 'Legenda', labels = [\"Znak\"]) # legenda\n",
        "\n",
        "plt.show()"
      ]
    },
    {
      "cell_type": "markdown",
      "metadata": {
        "id": "fY1TSzD43n47"
      },
      "source": [
        "## matplotlib - wykres - `fmt`\n",
        "\n",
        "\n",
        "Opcjonalny parametr `fmt` pozwala w wygodny sposób definiować podstawowe formatowanie geometrii wykresu takie jak kolor, znacznik i styl linii.\n",
        "\n",
        "\n",
        "```Python\n",
        "fmt = '[marker][line][color]'\n",
        "```\n",
        "\n",
        "Wykaz [znaczników](https://matplotlib.org/stable/api/_as_gen/matplotlib.pyplot.plot.html)"
      ]
    },
    {
      "cell_type": "markdown",
      "metadata": {
        "id": "m7IH_WDz3n47"
      },
      "source": [
        "## matplotlib - wykres\n",
        "\n"
      ]
    },
    {
      "cell_type": "code",
      "execution_count": null,
      "metadata": {
        "id": "I0Zp3mYp3n47"
      },
      "outputs": [],
      "source": [
        "plt.plot(liczby_X, liczby_Y, 'g+', markersize = 20)\n",
        "plt.axis('off');"
      ]
    },
    {
      "cell_type": "markdown",
      "metadata": {
        "id": "58anYXsP3n48"
      },
      "source": [
        "## matplotlib - wykres\n",
        "\n"
      ]
    },
    {
      "cell_type": "code",
      "execution_count": null,
      "metadata": {
        "id": "0w17-W7t3n48"
      },
      "outputs": [],
      "source": [
        "plt.plot(liczby_X, liczby_Y, 'r^')\n",
        "plt.yticks([0, 400000, 700000], ['0', '400k', '700k']);"
      ]
    },
    {
      "cell_type": "markdown",
      "metadata": {
        "id": "UReJkySA3n48"
      },
      "source": [
        "## Wizualizacja danych - wykres liniowy"
      ]
    },
    {
      "cell_type": "code",
      "execution_count": null,
      "metadata": {
        "id": "HGQMi7aB3n48",
        "scrolled": true
      },
      "outputs": [],
      "source": [
        "jablka = [0.895, 0.91, 0.919, 0.926, 0.929, 0.931]\n",
        "plt.plot(jablka);"
      ]
    },
    {
      "cell_type": "markdown",
      "metadata": {
        "id": "6pytgobX3n48"
      },
      "source": [
        "## Wizualizacja danych - wykres liniowy"
      ]
    },
    {
      "cell_type": "code",
      "execution_count": null,
      "metadata": {
        "id": "Rhx7Xjw63n48",
        "scrolled": true
      },
      "outputs": [],
      "source": [
        "lata = [2010, 2011, 2012, 2013, 2014, 2015]\n",
        "jablka = [0.895, 0.91, 0.919, 0.926, 0.929, 0.931]\n",
        "plt.plot(lata, jablka);"
      ]
    },
    {
      "cell_type": "markdown",
      "metadata": {
        "id": "qMs8D8Uu3n48"
      },
      "source": [
        "## Wizualizacja danych - wykres liniowy"
      ]
    },
    {
      "cell_type": "code",
      "execution_count": null,
      "metadata": {
        "id": "as4YEnDS3n49",
        "scrolled": true
      },
      "outputs": [],
      "source": [
        "lata = range(2000, 2012)\n",
        "jablka = [0.895, 0.91, 0.919, 0.926, 0.929, 0.931, 0.934, 0.936, 0.937, 0.9375, 0.9372, 0.939]\n",
        "gruszki = [0.962, 0.941, 0.930, 0.923, 0.918, 0.908, 0.907, 0.904, 0.901, 0.898, 0.9, 0.896]\n",
        "\n",
        "plt.plot(lata, jablka)\n",
        "plt.plot(lata, gruszki);"
      ]
    },
    {
      "cell_type": "markdown",
      "metadata": {
        "id": "6XOd-T463n49"
      },
      "source": [
        "## Wizualizacja danych - wykres liniowy"
      ]
    },
    {
      "cell_type": "code",
      "execution_count": null,
      "metadata": {
        "id": "nATVewOU3n49",
        "scrolled": true
      },
      "outputs": [],
      "source": [
        "plt.plot(lata, jablka)\n",
        "plt.plot(lata, gruszki)\n",
        "plt.xlabel('Lata')\n",
        "plt.ylabel('Wydajność (ton/hektar)')\n",
        "\n",
        "plt.title(\"Zbiory owoców\")\n",
        "plt.legend(['Jabłka', 'Gruszki']);"
      ]
    },
    {
      "cell_type": "markdown",
      "metadata": {
        "id": "tIeNC-Ud3n49"
      },
      "source": [
        "## Wizualizacja danych - wykres liniowy"
      ]
    },
    {
      "cell_type": "code",
      "execution_count": null,
      "metadata": {
        "id": "lOkf1-1n3n49",
        "scrolled": true
      },
      "outputs": [],
      "source": [
        "plt.plot(lata, jablka, marker='s', c='y', ls='-', lw=2, ms=8, mew=2, mec='navy', mfc = 'r')\n",
        "plt.plot(lata, gruszki, 'o--r', ms = 10, alpha=.5)\n",
        "plt.xlabel('Lata')\n",
        "plt.ylabel('Wydajność (ton/hektar)')\n",
        "\n",
        "plt.title(\"Zbiory owoców\")\n",
        "plt.legend(['Jabłka', 'Gruszki']);"
      ]
    },
    {
      "cell_type": "markdown",
      "metadata": {
        "id": "JE0uiFJX3n49"
      },
      "source": [
        "## Wizualizacja danych - wykres punktowy"
      ]
    },
    {
      "cell_type": "code",
      "execution_count": null,
      "metadata": {
        "id": "uE1WGayw3n49",
        "scrolled": false
      },
      "outputs": [],
      "source": [
        "liczby_X = [10, 8, 13, 9, 11, 14, 6, 4, 12, 7, 5, 3]\n",
        "liczby_Y = [8.04, 6.95, 7.58, 8.81, 8.33, 9.96, 7.24, 4.26, 10.84, 4.82, 5.68, 5.56]\n",
        "\n",
        "plt.plot(liczby_X, liczby_Y);\n",
        "# plt.plot(liczby_X, liczby_Y, 'bo');"
      ]
    },
    {
      "cell_type": "markdown",
      "metadata": {
        "id": "ppgbaPkK3n5C"
      },
      "source": [
        "## Wizualizacja danych - wykres punktowy"
      ]
    },
    {
      "cell_type": "code",
      "execution_count": null,
      "metadata": {
        "id": "ffnOMg0z3n5C",
        "scrolled": false
      },
      "outputs": [],
      "source": [
        "plt.scatter(liczby_X, liczby_Y);"
      ]
    },
    {
      "cell_type": "markdown",
      "metadata": {
        "id": "AQZj8cep3n5C"
      },
      "source": [
        "## Wizualizacja danych - wykres punktowy"
      ]
    },
    {
      "cell_type": "code",
      "execution_count": null,
      "metadata": {
        "id": "pzZ4jFBB3n5D",
        "scrolled": true
      },
      "outputs": [],
      "source": [
        "rozmiar = [10] * int(len(liczby_X)/2) + [100] * int(len(liczby_X)/2)\n",
        "kolor = ['red'] * int(len(liczby_X)/3) + ['blue'] * int(len(liczby_X)/3) + ['green'] * int(len(liczby_X)/3)\n",
        "\n",
        "plt.scatter(liczby_X, liczby_Y, s = rozmiar, c = kolor);"
      ]
    },
    {
      "cell_type": "markdown",
      "metadata": {
        "id": "_fmoufsdUGkE"
      },
      "source": [
        "## Wizualizacja danych - wykres punktowy"
      ]
    },
    {
      "cell_type": "code",
      "execution_count": null,
      "metadata": {
        "id": "bAYeL4shUGkE"
      },
      "outputs": [],
      "source": [
        "plt.scatter(liczby_X, liczby_Y, s = 100, c = rozmiar);\n",
        "plt.colorbar();"
      ]
    },
    {
      "cell_type": "markdown",
      "metadata": {
        "id": "_g8oOOsRUGkF"
      },
      "source": [
        "## Wizualizacja danych - wykres punktowy"
      ]
    },
    {
      "cell_type": "code",
      "execution_count": null,
      "metadata": {
        "id": "lflv35hIUGkK"
      },
      "outputs": [],
      "source": [
        "kolor = list(range(1, len(liczby_X)+1))\n",
        "\n",
        "plt.scatter(liczby_X, liczby_Y, s = 100, c = kolor);\n",
        "plt.colorbar();"
      ]
    },
    {
      "cell_type": "markdown",
      "metadata": {
        "id": "kdjmrtH93n5D"
      },
      "source": [
        "## Wizualizacja danych - wykres punktowy"
      ]
    },
    {
      "cell_type": "code",
      "execution_count": null,
      "metadata": {
        "id": "e2FPG9mw3n5D",
        "scrolled": true
      },
      "outputs": [],
      "source": [
        "kategorie = [0] * int(len(liczby_X)/4) + [1] * int(len(liczby_X)/4) + [2] * int(len(liczby_X)/4) + [3] * int(len(liczby_X)/4)\n",
        "\n",
        "plt.scatter(liczby_X, liczby_Y, s = 200, c = kategorie, cmap = 'Dark2', marker = 's');\n",
        "# plt.scatter(liczby_X, liczby_Y, s = 200, c = kategorie, cmap = 'RdBu', marker = 's');"
      ]
    },
    {
      "cell_type": "markdown",
      "metadata": {
        "id": "usSRYD0c3n5D"
      },
      "source": [
        "## Wizualizacja danych - wykres punktowy"
      ]
    },
    {
      "cell_type": "code",
      "execution_count": null,
      "metadata": {
        "id": "nc_KAWF63n5E",
        "scrolled": true
      },
      "outputs": [],
      "source": [
        "# 1. seria danych\n",
        "x1 = [5,7,8,7,2,17,2,9,4,11,12,9,6]\n",
        "y1 = [99,86,87,88,111,86,103,87,94,78,77,85,86]\n",
        "plt.scatter(x1, y1)\n",
        "\n",
        "# 2. seria danych\n",
        "x2 = [2,2,8,1,15,8,12,9,7,3,11,4,7,14,12]\n",
        "y2 = [100,105,84,105,90,99,90,95,94,100,79,112,91,80,85]\n",
        "plt.scatter(x2, y2)\n",
        "\n",
        "plt.legend(labels = ['1. seria', '2. seria']);"
      ]
    },
    {
      "cell_type": "markdown",
      "metadata": {
        "id": "sdu1pgXt3n5E"
      },
      "source": [
        "## Wizualizacja danych - wykres punktowy"
      ]
    },
    {
      "cell_type": "code",
      "execution_count": null,
      "metadata": {
        "id": "9-FYJAqT3n5E",
        "scrolled": true
      },
      "outputs": [],
      "source": [
        "# 1. seria danych\n",
        "plt.scatter(x1, y1, color = 'forestgreen')\n",
        "\n",
        "# 2. seria danych\n",
        "plt.scatter(x2, y2, color = '#ff0000')\n",
        "\n",
        "plt.legend(labels = ['1. seria', '2. seria']);"
      ]
    },
    {
      "cell_type": "markdown",
      "metadata": {
        "id": "HK8cuGip3n5E"
      },
      "source": [
        "## Wizualizacja danych - wykres punktowy"
      ]
    },
    {
      "cell_type": "code",
      "execution_count": null,
      "metadata": {
        "id": "XUf5PB2O3n5E",
        "scrolled": true
      },
      "outputs": [],
      "source": [
        "# serie danych\n",
        "x = x1 + x2\n",
        "y = y1 + y2\n",
        "kolor = [1]*len(x1)+[2]*len(x2)\n",
        "\n",
        "plt.scatter(x, y, marker = 's', c = kolor, cmap = 'PiYG');"
      ]
    },
    {
      "cell_type": "markdown",
      "metadata": {
        "id": "8ZSA1MZ63n5E"
      },
      "source": [
        "## Wizualizacja danych - wykres kolumnowy"
      ]
    },
    {
      "cell_type": "code",
      "execution_count": null,
      "metadata": {
        "id": "PBgNGkyC3n5F",
        "scrolled": true
      },
      "outputs": [],
      "source": [
        "liczebnosc = [10, 20, 30, 40]\n",
        "kategorie = ['A', 'B', 'C', 'D']\n",
        "\n",
        "plt.bar(kategorie, liczebnosc);"
      ]
    },
    {
      "cell_type": "markdown",
      "metadata": {
        "id": "KRJqn-Kx3n5F"
      },
      "source": [
        "## Wizualizacja danych - wykres kolumnowy"
      ]
    },
    {
      "cell_type": "code",
      "execution_count": null,
      "metadata": {
        "id": "_F26Ep8T3n5F",
        "scrolled": true
      },
      "outputs": [],
      "source": [
        "liczebnosc = [10, 20, 30, 40]\n",
        "kategorie = ['A', 'B', 'C', 'D']\n",
        "kolory = ['yellow', 'orange', 'red', 'green']\n",
        "\n",
        "plt.bar(kategorie, liczebnosc, color = kolory);"
      ]
    },
    {
      "cell_type": "markdown",
      "metadata": {
        "id": "31pWCtwK3n5F"
      },
      "source": [
        "## Wizualizacja danych - wykres słupkowy"
      ]
    },
    {
      "cell_type": "code",
      "execution_count": null,
      "metadata": {
        "id": "dXbgTeV53n5F",
        "scrolled": true
      },
      "outputs": [],
      "source": [
        "plt.barh(kategorie, liczebnosc, color = kolory)"
      ]
    },
    {
      "cell_type": "markdown",
      "metadata": {
        "id": "Y2N3lUZH3n5G"
      },
      "source": [
        "## Wizualizacja danych - histogram"
      ]
    },
    {
      "cell_type": "code",
      "execution_count": null,
      "metadata": {
        "id": "KnIDdfED3n5G"
      },
      "outputs": [],
      "source": [
        "rozklad_x1 = [1,2,2,3,3,3,4,4,4,4,5,5,5,5,5,6,6,6,6,7,7,7,8,8,9]\n",
        "\n",
        "plt.hist(rozklad_x1)"
      ]
    },
    {
      "cell_type": "markdown",
      "metadata": {
        "id": "DY5creyd3n5G"
      },
      "source": [
        "## Wizualizacja danych - histogram\n",
        "\n",
        "**Histogram** to zestawienie danych statystycznych w postaci wykresu powierzchniowego złożonego z przylegających do siebie słupków (prostokątów):\n",
        "\n",
        "   * wysokość ilustruje liczebność występowania badanej cechy w populacji lub jej próbie,\n",
        "   * podstawa (która spoczywa na osi odciętych) jest rozpiętością przedziałów klasowych."
      ]
    },
    {
      "cell_type": "markdown",
      "metadata": {
        "id": "6VTI_vvU3n5H"
      },
      "source": [
        "## Histogram - zastosowanie\n",
        "\n",
        "Histogramy są stosowane głównie dla przedstawienia struktury zbiorowości (lub zjawiska), a więc szeregów strukturalnych dotyczących cech ilościowych.\n",
        "\n",
        "\n",
        "W odróżnieniu od wykresów reprezentujących dynamikę zjawiska lub współzależność dwóch zjawisk."
      ]
    },
    {
      "cell_type": "code",
      "execution_count": null,
      "metadata": {
        "id": "lBxtac1p3n5H"
      },
      "outputs": [],
      "source": [
        "plt.hist(rozklad_x1, bins = 9);"
      ]
    },
    {
      "cell_type": "markdown",
      "metadata": {
        "id": "_NIS0D6g3n5H"
      },
      "source": [
        "## Wizualizacja danych - histogram"
      ]
    },
    {
      "cell_type": "code",
      "execution_count": null,
      "metadata": {
        "id": "uWHpvkLY3n5H"
      },
      "outputs": [],
      "source": [
        "plt.hist(rozklad_x1, bins = 9, color = 'cyan', edgecolor = \"black\");"
      ]
    },
    {
      "cell_type": "markdown",
      "metadata": {
        "id": "JyP8AFCX3n5I"
      },
      "source": [
        "## Wizualizacja danych - histogram"
      ]
    },
    {
      "cell_type": "code",
      "execution_count": null,
      "metadata": {
        "id": "k9W-uttr3n5I"
      },
      "outputs": [],
      "source": [
        "rozklad_x2 = [1,2,3,3,4,4,5,5,5,6,6,6,7,7,7,7,8,8,8,8,9,9,9,9,9]\n",
        "\n",
        "plt.hist(rozklad_x1, bins = 9, color = 'cyan', alpha = 0.4)\n",
        "plt.hist(rozklad_x2, bins = 9, color = 'pink', alpha = 0.8); # edgecolor = \"black\"\n",
        "\n",
        "# plt.hist([rozklad_x1, rozklad_x2], bins = 9, color = ['cyan', 'pink']);"
      ]
    },
    {
      "cell_type": "markdown",
      "metadata": {
        "id": "kAf2eT7s3n5I"
      },
      "source": [
        "## Wizualizacja danych - wykres skrzynkowy"
      ]
    },
    {
      "cell_type": "code",
      "execution_count": null,
      "metadata": {
        "id": "-T5BQppq3n5I"
      },
      "outputs": [],
      "source": [
        "rozklad_x1 = [1,2,2,3,3,3,4,4,4,4,5,5,5,5,5,6,6,6,6,7,7,7,8,8,9]\n",
        "\n",
        "plt.boxplot(rozklad_x1);"
      ]
    },
    {
      "cell_type": "markdown",
      "metadata": {
        "id": "pOsq4pIZ3n5I"
      },
      "source": [
        "## Wykres skrzynkowy - opis\n",
        "\n",
        "**Wykres skrzynkowy** (pudełkowy, wykres \"ramka–wąsy\") tworzony jest na podstawie wartości statystyk opisowych, zastosowanie ogranicza się więc do cech liczbowych.\n",
        "\n",
        "[Przykład](https://pl.wikipedia.org/wiki/Wykres_pude%C5%82kowy)"
      ]
    },
    {
      "cell_type": "markdown",
      "metadata": {
        "id": "P0zL75GD3n5J"
      },
      "source": [
        "## Wykres pudełkowy - zastosowania\n",
        "\n",
        "   * prezentacja rozproszenia danej cechy,\n",
        "   * przedstawienie rozkład uporządkowanych wartości cechy,\n",
        "   * ułatwienie diagnostyki typu skośności rozkładu cechy,\n",
        "   * wspomaga analizy oraz interpretacje danych statystycznych na potrzeby analiz zarządzania jakością."
      ]
    },
    {
      "cell_type": "markdown",
      "metadata": {
        "id": "u__O2WaN3n5J"
      },
      "source": [
        "## Wizualizacja danych - wykres skrzynkowy"
      ]
    },
    {
      "cell_type": "code",
      "execution_count": null,
      "metadata": {
        "id": "OLRY4aMV3n5J"
      },
      "outputs": [],
      "source": [
        "plt.boxplot(rozklad_x1, notch = True, vert = False);"
      ]
    },
    {
      "cell_type": "markdown",
      "metadata": {
        "id": "oiki6bW03n5J"
      },
      "source": [
        "## Wizualizacja danych - wykres skrzynkowy"
      ]
    },
    {
      "cell_type": "code",
      "execution_count": null,
      "metadata": {
        "id": "Eqg8bzSz3n5K"
      },
      "outputs": [],
      "source": [
        "rozklad_x1 = [1,2,2,3,3,3,4,4,4,4,5,5,5,5,5,6,6,6,6,7,7,7,8,8,9, 20]\n",
        "\n",
        "plt.boxplot(rozklad_x1, notch = True, vert = False, patch_artist=True,\n",
        "            boxprops=dict(facecolor='y', color='b'),\n",
        "            whiskerprops=dict(color='r', linewidth = 2),\n",
        "            capprops=dict(color='g', linewidth = 4),\n",
        "            flierprops=dict(marker='s', markerfacecolor='r', markeredgecolor='r'));"
      ]
    },
    {
      "cell_type": "markdown",
      "metadata": {
        "id": "OzV1mSmQ3n5K"
      },
      "source": [
        "## Wizualizacja danych - wykres skrzynkowy"
      ]
    },
    {
      "cell_type": "code",
      "execution_count": null,
      "metadata": {
        "id": "PU1_NUaR3n5K"
      },
      "outputs": [],
      "source": [
        "rozklad_x2 = [1,2,3,3,4,4,5,5,5,6,6,6,7,7,7,7,8,8,8,8,9,9,9,9,9]\n",
        "\n",
        "plt.boxplot(rozklad_x2, vert = False, patch_artist=True,\n",
        "            boxprops=dict(facecolor='pink'));"
      ]
    },
    {
      "cell_type": "markdown",
      "metadata": {
        "id": "pSb0wWvS3n5K"
      },
      "source": [
        "## Wizualizacja danych - wykres skrzynkowy"
      ]
    },
    {
      "cell_type": "code",
      "execution_count": null,
      "metadata": {
        "id": "wohkTl6f3n5K"
      },
      "outputs": [],
      "source": [
        "dane = [rozklad_x1, rozklad_x2]\n",
        "etykiety = ['rozklad 1', 'rozklad 2']\n",
        "\n",
        "plt.boxplot(dane,\n",
        "            showfliers=False,\n",
        "            labels = etykiety);"
      ]
    },
    {
      "cell_type": "markdown",
      "metadata": {
        "id": "5EhU7NiZ3n5L"
      },
      "source": [
        "## Wizualizacja danych - wykres skrzynkowy"
      ]
    },
    {
      "cell_type": "code",
      "execution_count": null,
      "metadata": {
        "id": "nwaT0Vbf3n5L"
      },
      "outputs": [],
      "source": [
        "dane = [rozklad_x1, rozklad_x2]\n",
        "etykiety = ['rozklad 1', 'rozklad 2']\n",
        "kolory = ['pink', 'steelblue']\n",
        "\n",
        "wykres = plt.boxplot(dane,\n",
        "                     showfliers=False,\n",
        "                     labels = etykiety,\n",
        "                     patch_artist=True);\n",
        "\n",
        "for i, skrzynka in enumerate(wykres['boxes']):\n",
        "    skrzynka.set_facecolor(kolory[i])"
      ]
    },
    {
      "cell_type": "markdown",
      "metadata": {
        "id": "LqCaymKc3n5L"
      },
      "source": [
        "## Wizualizacja danych - histogram + wykres skrzynkowy"
      ]
    },
    {
      "cell_type": "code",
      "execution_count": null,
      "metadata": {
        "id": "lN4-5Vvk3n5L"
      },
      "outputs": [],
      "source": [
        "plt.hist(rozklad_x1, bins = 9)\n",
        "plt.boxplot(rozklad_x1, showmeans = True,\n",
        "            vert = False, widths = 1.5);"
      ]
    },
    {
      "cell_type": "markdown",
      "metadata": {
        "id": "TCBV-9593n5L"
      },
      "source": [
        "## Wizualizacja danych - panele"
      ]
    },
    {
      "cell_type": "code",
      "execution_count": null,
      "metadata": {
        "id": "TY-N28m_3n5L",
        "scrolled": true
      },
      "outputs": [],
      "source": [
        "# wykres1\n",
        "plt.subplot(2, 1, 1)\n",
        "plt.barh(kategorie, liczebnosc, color = kolory)\n",
        "\n",
        "# wykres2\n",
        "plt.subplot(2, 1, 2)\n",
        "plt.bar(kategorie, liczebnosc, color = kolory);"
      ]
    },
    {
      "cell_type": "markdown",
      "metadata": {
        "id": "Vp-vv21-3n5M"
      },
      "source": [
        "## Wizualizacja danych - panele"
      ]
    },
    {
      "cell_type": "code",
      "execution_count": null,
      "metadata": {
        "id": "Q9RyCDTA3n5M",
        "scrolled": true
      },
      "outputs": [],
      "source": [
        "plt.figure(figsize=[10, 5])\n",
        "plt.suptitle('Wykresy\\n')\n",
        "\n",
        "# wykres1\n",
        "plt.subplot(1, 2, 1)\n",
        "plt.bar(kategorie, liczebnosc, color = kolory)\n",
        "plt.title('Kolumnowy')\n",
        "\n",
        "# wykres2\n",
        "plt.subplot(1,2, 2)\n",
        "plt.barh(kategorie, liczebnosc, color = kolory)\n",
        "plt.title('Słupkowy');"
      ]
    },
    {
      "cell_type": "markdown",
      "metadata": {
        "id": "dHDCOKOP3n5M"
      },
      "source": [
        "## Wizualizacja danych - panele"
      ]
    },
    {
      "cell_type": "code",
      "execution_count": null,
      "metadata": {
        "id": "LBEJa4WW3n5M",
        "scrolled": true
      },
      "outputs": [],
      "source": [
        "plt.figure(figsize=[12, 10])\n",
        "plt.suptitle('Wykresy\\n')\n",
        "\n",
        "# wykres1\n",
        "plt.subplot(2, 2, 1)\n",
        "plt.bar(lata, jablka, color = 'red')\n",
        "plt.title('Jabłka')\n",
        "\n",
        "# wykres2\n",
        "plt.subplot(2, 2, 2)\n",
        "plt.bar(lata, gruszki, color = 'yellow')\n",
        "plt.title('Gruszki')\n",
        "\n",
        "# wykres3\n",
        "plt.subplot(2, 2, (3,4))\n",
        "plt.barh(lata, jablka, color = 'red')\n",
        "plt.barh(lata, gruszki, color = 'yellow', alpha = 0.5)\n",
        "plt.title('Razem');"
      ]
    },
    {
      "cell_type": "markdown",
      "metadata": {
        "id": "S0GyK7Kg3n5M"
      },
      "source": [
        "## Wizualizacja danych - panele"
      ]
    },
    {
      "cell_type": "code",
      "execution_count": null,
      "metadata": {
        "id": "Fy5qRYal3n5M",
        "scrolled": true
      },
      "outputs": [],
      "source": [
        "liczebnosc2 = [100,200,300,400]\n",
        "\n",
        "plt.figure(figsize=[5, 7])\n",
        "plt.suptitle('Wykresy\\n')\n",
        "\n",
        "# wykres1\n",
        "plt.subplot(2, 1, 1)\n",
        "plt.barh(kategorie, liczebnosc)\n",
        "plt.title('Liczebność mała')\n",
        "\n",
        "# wykres2\n",
        "plt.subplot(2, 1, 2)\n",
        "plt.barh(kategorie, liczebnosc2)\n",
        "plt.title('Liczebność duża');"
      ]
    },
    {
      "cell_type": "markdown",
      "metadata": {
        "id": "r8HSC-LQ3n5M"
      },
      "source": [
        "## Wizualizacja danych - panele"
      ]
    },
    {
      "cell_type": "code",
      "execution_count": null,
      "metadata": {
        "id": "U-Fymlwm3n5N",
        "scrolled": true
      },
      "outputs": [],
      "source": [
        "plt.suptitle('Wykresy\\n')\n",
        "\n",
        "# wykres1\n",
        "fig, (w1, w2) = plt.subplots(2, sharex = True, figsize = [5, 6])\n",
        "w1.barh(kategorie, liczebnosc)\n",
        "w1.set_title('Liczebność mała')\n",
        "\n",
        "# wykres2\n",
        "w2.barh(kategorie, liczebnosc2)\n",
        "w2.set_title('Liczebność duża');"
      ]
    }
  ],
  "metadata": {
    "celltoolbar": "Slideshow",
    "colab": {
      "provenance": [],
      "include_colab_link": true
    },
    "kernelspec": {
      "display_name": "Python 3",
      "language": "python",
      "name": "python3"
    },
    "language_info": {
      "codemirror_mode": {
        "name": "ipython",
        "version": 3
      },
      "file_extension": ".py",
      "mimetype": "text/x-python",
      "name": "python",
      "nbconvert_exporter": "python",
      "pygments_lexer": "ipython3",
      "version": "3.12.3"
    },
    "toc": {
      "base_numbering": 1,
      "nav_menu": {},
      "number_sections": true,
      "sideBar": true,
      "skip_h1_title": false,
      "title_cell": "Table of Contents",
      "title_sidebar": "Contents",
      "toc_cell": false,
      "toc_position": {},
      "toc_section_display": true,
      "toc_window_display": true
    }
  },
  "nbformat": 4,
  "nbformat_minor": 0
}